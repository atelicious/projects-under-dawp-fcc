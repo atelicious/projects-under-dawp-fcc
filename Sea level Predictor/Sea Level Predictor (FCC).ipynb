{
 "cells": [
  {
   "cell_type": "markdown",
   "metadata": {},
   "source": [
    "## Project\n",
    "You will analize a dataset of the global average sea level change since 1880. You will use the data to predict the sea level change through year 2050.\n",
    "\n",
    "Use the data to complete the following tasks:\n",
    "\n",
    "* Use Pandas to import the data from epa-sea-level.csv.\n",
    "* Use matplotlib to create a scatter plot using the \"Year\" column as the x-axis and the \"CSIRO Adjusted Sea Level\" column as the y-axix.\n",
    "* Use the linregress function from scipi.stats to get the slope and y-intercept of the line of best fit. Plot the line of best fit over the top of the scatter plot. Make the line go through the year 2050 to predict the sea level rise in 2050.\n",
    "* Plot a new line of best fit just using the data from year 2000 through the most recent year in the dataset. Make the line also go through the year 2050 to predict the sea level rise in 2050 if the rate of rise continues as it has since the year 2000.\n",
    "* The x label should be \"Year\", the y label should be \"Sea Level (inches)\", and the title should be \"Rise in Sea Level\"."
   ]
  },
  {
   "cell_type": "code",
   "execution_count": 4,
   "metadata": {},
   "outputs": [],
   "source": [
    "#Answer"
   ]
  },
  {
   "cell_type": "code",
   "execution_count": 6,
   "metadata": {},
   "outputs": [
    {
     "data": {
      "text/plain": [
       "<matplotlib.axes._subplots.AxesSubplot at 0x29f1359b670>"
      ]
     },
     "execution_count": 6,
     "metadata": {},
     "output_type": "execute_result"
    },
    {
     "data": {
      "image/png": "[encoded data removed]",
      "text/plain": [
       "<Figure size 720x432 with 1 Axes>"
      ]
     },
     "metadata": {
      "needs_background": "light"
     },
     "output_type": "display_data"
    }
   ],
   "source": [
    "draw_plot()"
   ]
  },
  {
   "cell_type": "code",
   "execution_count": 5,
   "metadata": {},
   "outputs": [],
   "source": [
    "#Solution"
   ]
  },
  {
   "cell_type": "code",
   "execution_count": 1,
   "metadata": {},
   "outputs": [],
   "source": [
    "## Import Libraries\n",
    "import pandas as pd\n",
    "import matplotlib.pyplot as plt\n",
    "from scipy.stats import linregress"
   ]
  },
  {
   "cell_type": "code",
   "execution_count": 2,
   "metadata": {},
   "outputs": [],
   "source": [
    "def draw_plot():\n",
    "    # Read data from file\n",
    "    df = pd.read_csv('epa-sea-level.csv')\n",
    "\n",
    "    # Create scatter plot\n",
    "    fig, ax = plt.subplots(figsize=(10, 6))\n",
    "    \n",
    "    x_ticks = []\n",
    "    x_ticks_labels = []\n",
    "\n",
    "    for i in range(1850, 2076, 25):\n",
    "        x_ticks.append(round(float(i), 1))\n",
    "    for i in x_ticks:\n",
    "        x_ticks_labels.append(str(i))\n",
    "    \n",
    "    ax.scatter(df['Year'], df['CSIRO Adjusted Sea Level'])\n",
    "    ax.set_xbound(lower=1850, upper=2050)\n",
    "    ax.set_xticks(x_ticks)\n",
    "    ax.set_xticklabels(x_ticks_labels)\n",
    "\n",
    "    # Create first line of best fit\n",
    "    #According to the problem, we have to plot a best line of fit up to year 2050.\n",
    "    #Using scypy.stats.lingress gives us 5 values: slope of regression, intercept of the regression line,\n",
    "    #correlation coefficient, p-value, and standard error of estimated gradient.\n",
    "    #To plot the best line, we need the slope and the intercept of the regression line.\n",
    "\n",
    "    slope, intercept, rvalue, pvalue, std_error = linregress(df['Year'], df['CSIRO Adjusted Sea Level'])\n",
    "\n",
    "    #We can now delete the corr_coeff, p-value, and std_error because we are only going to use slope and regression_intercept.\n",
    "\n",
    "    del rvalue, pvalue, std_error\n",
    "\n",
    "    x_values = list((range(1880, 2050, 1)))\n",
    "    y_values = []\n",
    "\n",
    "    for values in x_values:\n",
    "        y_values.append(intercept + values*slope)\n",
    "    \n",
    "    ax.plot(x_values, y_values, color = 'red')\n",
    "\n",
    "\n",
    "    # Create second line of best fit\n",
    "    #For this second line of best fit, we need the linear regression of values from year 2000 up to year 2050.\n",
    "    #We need to slice our data so that data from 2000 onwards are the ones that we are analyzing.\n",
    "\n",
    "    df_from_2000_up = df[df['Year'] >= 2000].copy()\n",
    "\n",
    "    #Then we proceed from what we did from the first best line of fit\n",
    "    slope, intercept, rvalue, pvalue, std_error = linregress(df_from_2000_up['Year'], df_from_2000_up['CSIRO Adjusted Sea Level'])\n",
    "\n",
    "    del rvalue, pvalue, std_error\n",
    "\n",
    "    x_values = list((range(2000, 2050, 1)))\n",
    "    y_values = []\n",
    "\n",
    "    for values in x_values:\n",
    "        y_values.append(intercept + values*slope)\n",
    "    \n",
    "    ax.plot(x_values, y_values, color = 'blue')\n",
    "\n",
    "    # Add labels and title\n",
    "\n",
    "    ax.set_xlabel('Year')\n",
    "    ax.set_ylabel('Sea Level (inches)')    \n",
    "    ax.set_title('Rise in Sea Level')\n",
    "    # Save plot and return data for testing (DO NOT MODIFY)\n",
    "    plt.savefig('sea_level_plot.png')\n",
    "    return plt.gca()"
   ]
  },
  {
   "cell_type": "code",
   "execution_count": null,
   "metadata": {},
   "outputs": [],
   "source": []
  }
 ],
 "metadata": {
  "kernelspec": {
   "display_name": "Python 3",
   "language": "python",
   "name": "python3"
  },
  "language_info": {
   "codemirror_mode": {
    "name": "ipython",
    "version": 3
   },
   "file_extension": ".py",
   "mimetype": "text/x-python",
   "name": "python",
   "nbconvert_exporter": "python",
   "pygments_lexer": "ipython3",
   "version": "3.8.3"
  }
 },
 "nbformat": 4,
 "nbformat_minor": 4
}
